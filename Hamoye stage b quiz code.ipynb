{
 "cells": [
  {
   "cell_type": "code",
   "execution_count": 1,
   "metadata": {},
   "outputs": [],
   "source": [
    "import numpy as np\n",
    "import pandas as pd\n",
    "app_energy = pd.read_csv(r\"~\\Desktop\\HAMOYE\\STAGE B\\Energy Data.csv\")"
   ]
  },
  {
   "cell_type": "code",
   "execution_count": 2,
   "metadata": {},
   "outputs": [],
   "source": [
    "app_energy = app_energy.rename(columns = {\"T1\": \"Kitchen temp\", \"RH_1\": \"Kitchen humd\", \"T2\": \"Livingroom temp\",\n",
    "                                         \"RH_2\": \"Livingroom humd\", \"T3\": \"Laundry temp\", \"RH_3\": \"Laundry humd\",\n",
    "                                         \"T4\": \"Office temp\", \"RH_4\": \"Office humd\", \"T5\": \"Bathroom temp\", \"RH_5\": \"Bathroom humd\",\n",
    "                                          \"T6\": \"Outside temp(North)\", \"RH_6\": \"Outside humd(North)\", \"T7\": \"Ironingroom temp\",\n",
    "                                         \"RH_7\": \"Ironingroom humd\", \"T8\": \"Teenageroom temp\", \"RH_8\": \"Teenageroom humd\",\n",
    "                                         \"T9\": \"Parentroom temp\", \"RH_9\": \"Parentroom humd\", \"T_out\": \"Baselinetemp outside\", \n",
    "                                         \"Press_mm_hg\": \"baselinepressure\", \"RH_out\": \"Baselinepressure outside\",\n",
    "                                         \"Windspeed\": \"Windspeed(m/s)\", \"Visibility\": \"Visibility(km)\", \"Tdewpoint\": \"Dew point temp\",\n",
    "                                         \"rv1\": \"RV1\", \"rv2\": \"RV2\"})"
   ]
  },
  {
   "cell_type": "code",
   "execution_count": 4,
   "metadata": {},
   "outputs": [],
   "source": [
    "app_energy = app_energy.drop([\"date\", \"lights\"], axis = 1)"
   ]
  },
  {
   "cell_type": "code",
   "execution_count": 5,
   "metadata": {},
   "outputs": [],
   "source": [
    "from sklearn.preprocessing import MinMaxScaler\n",
    "scaler = MinMaxScaler()\n",
    "normalised_df = pd.DataFrame(scaler.fit_transform(app_energy), columns = app_energy.columns)"
   ]
  },
  {
   "cell_type": "code",
   "execution_count": 35,
   "metadata": {},
   "outputs": [],
   "source": [
    "x = normalised_df[[\"Livingroom temp\"]]\n",
    "y = normalised_df[[\"Outside temp(North)\"]]"
   ]
  },
  {
   "cell_type": "code",
   "execution_count": 36,
   "metadata": {},
   "outputs": [],
   "source": [
    "from sklearn.model_selection import train_test_split\n",
    "x_train,x_test,y_train,y_test = train_test_split(x, y, test_size = 0.3, random_state = 42)"
   ]
  },
  {
   "cell_type": "code",
   "execution_count": 37,
   "metadata": {},
   "outputs": [
    {
     "data": {
      "text/plain": [
       "array([[0.23928945],\n",
       "       [0.46794238],\n",
       "       [0.23108472],\n",
       "       ...,\n",
       "       [0.3001772 ],\n",
       "       [0.4297256 ],\n",
       "       [0.3217686 ]])"
      ]
     },
     "execution_count": 37,
     "metadata": {},
     "output_type": "execute_result"
    }
   ],
   "source": [
    "from sklearn.linear_model import LinearRegression\n",
    "linear_model = LinearRegression()\n",
    "linear_model.fit(x_train, y_train)\n",
    "predicted_values = linear_model.predict(x_test)\n",
    "predicted_values"
   ]
  },
  {
   "cell_type": "code",
   "execution_count": 38,
   "metadata": {},
   "outputs": [
    {
     "data": {
      "text/plain": [
       "0.64"
      ]
     },
     "execution_count": 38,
     "metadata": {},
     "output_type": "execute_result"
    }
   ],
   "source": [
    "#Question 12\n",
    "from sklearn.metrics import r2_score\n",
    "r2 = r2_score(y_test, predicted_values)\n",
    "round(r2, 2)"
   ]
  },
  {
   "cell_type": "code",
   "execution_count": 39,
   "metadata": {},
   "outputs": [],
   "source": [
    "X = normalised_df.drop(columns = [\"Appliances\"])\n",
    "Y = normalised_df[\"Appliances\"]"
   ]
  },
  {
   "cell_type": "code",
   "execution_count": 40,
   "metadata": {},
   "outputs": [],
   "source": [
    "from sklearn.model_selection import train_test_split\n",
    "x_train,x_test,y_train,y_test = (train_test_split(X,Y, test_size = 0.3, random_state = 42))"
   ]
  },
  {
   "cell_type": "code",
   "execution_count": 41,
   "metadata": {},
   "outputs": [
    {
     "data": {
      "text/plain": [
       "array([0.03319482, 0.24412217, 0.0340092 , ..., 0.06843864, 0.09999407,\n",
       "       0.05760656])"
      ]
     },
     "execution_count": 41,
     "metadata": {},
     "output_type": "execute_result"
    }
   ],
   "source": [
    "from sklearn.linear_model import LinearRegression\n",
    "linear_model = LinearRegression()\n",
    "linear_model.fit(x_train, y_train)\n",
    "predicted_values = linear_model.predict(x_test)\n",
    "predicted_values"
   ]
  },
  {
   "cell_type": "code",
   "execution_count": 42,
   "metadata": {},
   "outputs": [
    {
     "data": {
      "text/plain": [
       "0.05"
      ]
     },
     "execution_count": 42,
     "metadata": {},
     "output_type": "execute_result"
    }
   ],
   "source": [
    "#Question 13\n",
    "from sklearn.metrics import mean_absolute_error\n",
    "mae = mean_absolute_error(y_test, predicted_values)\n",
    "mae\n",
    "round(mae, 2)"
   ]
  },
  {
   "cell_type": "code",
   "execution_count": 43,
   "metadata": {},
   "outputs": [
    {
     "data": {
      "text/plain": [
       "45.35"
      ]
     },
     "execution_count": 43,
     "metadata": {},
     "output_type": "execute_result"
    }
   ],
   "source": [
    "#Question 14\n",
    "rss = np.sum(np.square(y_test - predicted_values))\n",
    "round(rss, 2)"
   ]
  },
  {
   "cell_type": "code",
   "execution_count": 45,
   "metadata": {},
   "outputs": [
    {
     "data": {
      "text/plain": [
       "0.088"
      ]
     },
     "execution_count": 45,
     "metadata": {},
     "output_type": "execute_result"
    }
   ],
   "source": [
    "#Question 15\n",
    "from sklearn.metrics import mean_squared_error\n",
    "rmse = np.sqrt(mean_squared_error(y_test, predicted_values))\n",
    "round(rmse, 3)"
   ]
  },
  {
   "cell_type": "code",
   "execution_count": 44,
   "metadata": {},
   "outputs": [
    {
     "data": {
      "text/plain": [
       "0.15"
      ]
     },
     "execution_count": 44,
     "metadata": {},
     "output_type": "execute_result"
    }
   ],
   "source": [
    "#Question 16\n",
    "from sklearn.metrics import r2_score\n",
    "r2 = r2_score(y_test, predicted_values)\n",
    "round(r2, 2)"
   ]
  },
  {
   "cell_type": "code",
   "execution_count": 19,
   "metadata": {},
   "outputs": [
    {
     "data": {
      "text/plain": [
       "Ridge(alpha=0.5, copy_X=True, fit_intercept=True, max_iter=None,\n",
       "      normalize=False, random_state=None, solver='auto', tol=0.001)"
      ]
     },
     "execution_count": 19,
     "metadata": {},
     "output_type": "execute_result"
    }
   ],
   "source": [
    "from sklearn.linear_model import Ridge\n",
    "ridge_reg = Ridge(alpha = 0.5)\n",
    "ridge_reg.fit(x_train, y_train)"
   ]
  },
  {
   "cell_type": "code",
   "execution_count": 20,
   "metadata": {},
   "outputs": [
    {
     "data": {
      "text/plain": [
       "Lasso(alpha=0.001, copy_X=True, fit_intercept=True, max_iter=1000,\n",
       "      normalize=False, positive=False, precompute=False, random_state=None,\n",
       "      selection='cyclic', tol=0.0001, warm_start=False)"
      ]
     },
     "execution_count": 20,
     "metadata": {},
     "output_type": "execute_result"
    }
   ],
   "source": [
    "from sklearn.linear_model import Lasso\n",
    "lasso_reg = Lasso(alpha=0.001)\n",
    "lasso_reg.fit(x_train, y_train)"
   ]
  },
  {
   "cell_type": "code",
   "execution_count": 21,
   "metadata": {},
   "outputs": [],
   "source": [
    "#comparing the effect of regularization\n",
    "def get_weights_df(linear_model, feat, col_name):\n",
    "    #this function returns the weight of every feature\n",
    "    weights = pd.Series(linear_model.coef_, feat.columns).sort_values()\n",
    "    weights_df = pd.DataFrame(weights).reset_index()\n",
    "    weights_df.columns = [\"Features\", col_name]\n",
    "    weights_df[col_name].round(3)\n",
    "    return weights_df"
   ]
  },
  {
   "cell_type": "code",
   "execution_count": 22,
   "metadata": {},
   "outputs": [
    {
     "data": {
      "text/html": [
       "<div>\n",
       "<style scoped>\n",
       "    .dataframe tbody tr th:only-of-type {\n",
       "        vertical-align: middle;\n",
       "    }\n",
       "\n",
       "    .dataframe tbody tr th {\n",
       "        vertical-align: top;\n",
       "    }\n",
       "\n",
       "    .dataframe thead th {\n",
       "        text-align: right;\n",
       "    }\n",
       "</style>\n",
       "<table border=\"1\" class=\"dataframe\">\n",
       "  <thead>\n",
       "    <tr style=\"text-align: right;\">\n",
       "      <th></th>\n",
       "      <th>Features</th>\n",
       "      <th>Linear_Model_Weight</th>\n",
       "      <th>Ridge_Weight</th>\n",
       "      <th>Lasso_Weight</th>\n",
       "    </tr>\n",
       "  </thead>\n",
       "  <tbody>\n",
       "    <tr>\n",
       "      <th>0</th>\n",
       "      <td>Livingroom humd</td>\n",
       "      <td>-0.456662</td>\n",
       "      <td>-0.401113</td>\n",
       "      <td>-0.000000</td>\n",
       "    </tr>\n",
       "    <tr>\n",
       "      <th>1</th>\n",
       "      <td>Baselinetemp outside</td>\n",
       "      <td>-0.321969</td>\n",
       "      <td>-0.250943</td>\n",
       "      <td>0.000000</td>\n",
       "    </tr>\n",
       "    <tr>\n",
       "      <th>2</th>\n",
       "      <td>Livingroom temp</td>\n",
       "      <td>-0.236198</td>\n",
       "      <td>-0.193899</td>\n",
       "      <td>0.000000</td>\n",
       "    </tr>\n",
       "    <tr>\n",
       "      <th>3</th>\n",
       "      <td>Parentroom temp</td>\n",
       "      <td>-0.189977</td>\n",
       "      <td>-0.188615</td>\n",
       "      <td>-0.000000</td>\n",
       "    </tr>\n",
       "    <tr>\n",
       "      <th>4</th>\n",
       "      <td>Teenageroom humd</td>\n",
       "      <td>-0.157585</td>\n",
       "      <td>-0.156584</td>\n",
       "      <td>-0.000110</td>\n",
       "    </tr>\n",
       "    <tr>\n",
       "      <th>5</th>\n",
       "      <td>Baselinepressure outside</td>\n",
       "      <td>-0.077748</td>\n",
       "      <td>-0.050642</td>\n",
       "      <td>-0.049557</td>\n",
       "    </tr>\n",
       "    <tr>\n",
       "      <th>6</th>\n",
       "      <td>Ironingroom humd</td>\n",
       "      <td>-0.044620</td>\n",
       "      <td>-0.046297</td>\n",
       "      <td>-0.000000</td>\n",
       "    </tr>\n",
       "    <tr>\n",
       "      <th>7</th>\n",
       "      <td>Parentroom humd</td>\n",
       "      <td>-0.039808</td>\n",
       "      <td>-0.041707</td>\n",
       "      <td>-0.000000</td>\n",
       "    </tr>\n",
       "    <tr>\n",
       "      <th>8</th>\n",
       "      <td>Bathroom temp</td>\n",
       "      <td>-0.015645</td>\n",
       "      <td>-0.020714</td>\n",
       "      <td>-0.000000</td>\n",
       "    </tr>\n",
       "    <tr>\n",
       "      <th>9</th>\n",
       "      <td>Kitchen temp</td>\n",
       "      <td>-0.003242</td>\n",
       "      <td>-0.021515</td>\n",
       "      <td>0.000000</td>\n",
       "    </tr>\n",
       "    <tr>\n",
       "      <th>10</th>\n",
       "      <td>RV1</td>\n",
       "      <td>0.000765</td>\n",
       "      <td>0.000740</td>\n",
       "      <td>-0.000000</td>\n",
       "    </tr>\n",
       "    <tr>\n",
       "      <th>11</th>\n",
       "      <td>RV2</td>\n",
       "      <td>0.000765</td>\n",
       "      <td>0.000740</td>\n",
       "      <td>-0.000000</td>\n",
       "    </tr>\n",
       "    <tr>\n",
       "      <th>12</th>\n",
       "      <td>baselinepressure</td>\n",
       "      <td>0.006832</td>\n",
       "      <td>0.006511</td>\n",
       "      <td>-0.000000</td>\n",
       "    </tr>\n",
       "    <tr>\n",
       "      <th>13</th>\n",
       "      <td>Ironingroom temp</td>\n",
       "      <td>0.010350</td>\n",
       "      <td>0.010048</td>\n",
       "      <td>-0.000000</td>\n",
       "    </tr>\n",
       "    <tr>\n",
       "      <th>14</th>\n",
       "      <td>Visibility(km)</td>\n",
       "      <td>0.012306</td>\n",
       "      <td>0.012032</td>\n",
       "      <td>0.000000</td>\n",
       "    </tr>\n",
       "    <tr>\n",
       "      <th>15</th>\n",
       "      <td>Bathroom humd</td>\n",
       "      <td>0.016009</td>\n",
       "      <td>0.016177</td>\n",
       "      <td>0.000000</td>\n",
       "    </tr>\n",
       "    <tr>\n",
       "      <th>16</th>\n",
       "      <td>Office humd</td>\n",
       "      <td>0.026370</td>\n",
       "      <td>0.024155</td>\n",
       "      <td>0.000000</td>\n",
       "    </tr>\n",
       "    <tr>\n",
       "      <th>17</th>\n",
       "      <td>Office temp</td>\n",
       "      <td>0.028957</td>\n",
       "      <td>0.026986</td>\n",
       "      <td>-0.000000</td>\n",
       "    </tr>\n",
       "    <tr>\n",
       "      <th>18</th>\n",
       "      <td>Windspeed(m/s)</td>\n",
       "      <td>0.029178</td>\n",
       "      <td>0.030457</td>\n",
       "      <td>0.002912</td>\n",
       "    </tr>\n",
       "    <tr>\n",
       "      <th>19</th>\n",
       "      <td>Outside humd(North)</td>\n",
       "      <td>0.038023</td>\n",
       "      <td>0.035006</td>\n",
       "      <td>-0.000000</td>\n",
       "    </tr>\n",
       "    <tr>\n",
       "      <th>20</th>\n",
       "      <td>Laundry humd</td>\n",
       "      <td>0.096095</td>\n",
       "      <td>0.095012</td>\n",
       "      <td>0.000000</td>\n",
       "    </tr>\n",
       "    <tr>\n",
       "      <th>21</th>\n",
       "      <td>Teenageroom temp</td>\n",
       "      <td>0.101995</td>\n",
       "      <td>0.100753</td>\n",
       "      <td>0.000000</td>\n",
       "    </tr>\n",
       "    <tr>\n",
       "      <th>22</th>\n",
       "      <td>Dew point temp</td>\n",
       "      <td>0.117862</td>\n",
       "      <td>0.076804</td>\n",
       "      <td>0.000000</td>\n",
       "    </tr>\n",
       "    <tr>\n",
       "      <th>23</th>\n",
       "      <td>Outside temp(North)</td>\n",
       "      <td>0.236441</td>\n",
       "      <td>0.213350</td>\n",
       "      <td>0.000000</td>\n",
       "    </tr>\n",
       "    <tr>\n",
       "      <th>24</th>\n",
       "      <td>Laundry temp</td>\n",
       "      <td>0.290587</td>\n",
       "      <td>0.287377</td>\n",
       "      <td>0.000000</td>\n",
       "    </tr>\n",
       "    <tr>\n",
       "      <th>25</th>\n",
       "      <td>Kitchen humd</td>\n",
       "      <td>0.553516</td>\n",
       "      <td>0.511910</td>\n",
       "      <td>0.017880</td>\n",
       "    </tr>\n",
       "  </tbody>\n",
       "</table>\n",
       "</div>"
      ],
      "text/plain": [
       "                    Features  Linear_Model_Weight  Ridge_Weight  Lasso_Weight\n",
       "0            Livingroom humd            -0.456662     -0.401113     -0.000000\n",
       "1       Baselinetemp outside            -0.321969     -0.250943      0.000000\n",
       "2            Livingroom temp            -0.236198     -0.193899      0.000000\n",
       "3            Parentroom temp            -0.189977     -0.188615     -0.000000\n",
       "4           Teenageroom humd            -0.157585     -0.156584     -0.000110\n",
       "5   Baselinepressure outside            -0.077748     -0.050642     -0.049557\n",
       "6           Ironingroom humd            -0.044620     -0.046297     -0.000000\n",
       "7            Parentroom humd            -0.039808     -0.041707     -0.000000\n",
       "8              Bathroom temp            -0.015645     -0.020714     -0.000000\n",
       "9               Kitchen temp            -0.003242     -0.021515      0.000000\n",
       "10                       RV1             0.000765      0.000740     -0.000000\n",
       "11                       RV2             0.000765      0.000740     -0.000000\n",
       "12          baselinepressure             0.006832      0.006511     -0.000000\n",
       "13          Ironingroom temp             0.010350      0.010048     -0.000000\n",
       "14            Visibility(km)             0.012306      0.012032      0.000000\n",
       "15             Bathroom humd             0.016009      0.016177      0.000000\n",
       "16               Office humd             0.026370      0.024155      0.000000\n",
       "17               Office temp             0.028957      0.026986     -0.000000\n",
       "18            Windspeed(m/s)             0.029178      0.030457      0.002912\n",
       "19       Outside humd(North)             0.038023      0.035006     -0.000000\n",
       "20              Laundry humd             0.096095      0.095012      0.000000\n",
       "21          Teenageroom temp             0.101995      0.100753      0.000000\n",
       "22            Dew point temp             0.117862      0.076804      0.000000\n",
       "23       Outside temp(North)             0.236441      0.213350      0.000000\n",
       "24              Laundry temp             0.290587      0.287377      0.000000\n",
       "25              Kitchen humd             0.553516      0.511910      0.017880"
      ]
     },
     "execution_count": 22,
     "metadata": {},
     "output_type": "execute_result"
    }
   ],
   "source": [
    "#Question 17 and 19\n",
    "linear_model_weights = get_weights_df(linear_model, x_train, \"Linear_Model_Weight\")\n",
    "ridge_weights_df = get_weights_df(ridge_reg, x_train, \"Ridge_Weight\")\n",
    "lasso_weights_df = get_weights_df(lasso_reg, x_train, \"Lasso_Weight\")\n",
    "final_weights = pd.merge(linear_model_weights, ridge_weights_df, on = \"Features\")\n",
    "final_weights = pd.merge(final_weights, lasso_weights_df, on = \"Features\")\n",
    "final_weights"
   ]
  },
  {
   "cell_type": "code",
   "execution_count": 27,
   "metadata": {},
   "outputs": [],
   "source": [
    "#Question 18\n",
    "from sklearn.linear_model import Ridge\n",
    "ridge_reg = Ridge(alpha = 0.5)\n",
    "ridge_reg.fit(x_train, y_train)\n",
    "predicted_value = ridge_reg.predict(x_test)"
   ]
  },
  {
   "cell_type": "code",
   "execution_count": 28,
   "metadata": {},
   "outputs": [
    {
     "data": {
      "text/plain": [
       "0.088"
      ]
     },
     "execution_count": 28,
     "metadata": {},
     "output_type": "execute_result"
    }
   ],
   "source": [
    "from sklearn.metrics import mean_squared_error\n",
    "rmse = np.sqrt(mean_squared_error(y_test, predicted_value))\n",
    "round(rmse, 3)"
   ]
  },
  {
   "cell_type": "code",
   "execution_count": 33,
   "metadata": {},
   "outputs": [],
   "source": [
    "#Question 20\n",
    "from sklearn.linear_model import Lasso\n",
    "lasso_reg = Lasso(alpha=0.001)\n",
    "lasso_reg.fit(x_train, y_train)\n",
    "predicted_valuess = lasso_reg.predict(x_test)"
   ]
  },
  {
   "cell_type": "code",
   "execution_count": 34,
   "metadata": {},
   "outputs": [
    {
     "data": {
      "text/plain": [
       "0.094"
      ]
     },
     "execution_count": 34,
     "metadata": {},
     "output_type": "execute_result"
    }
   ],
   "source": [
    "from sklearn.metrics import mean_squared_error\n",
    "rmse = np.sqrt(mean_squared_error(y_test, predicted_valuess))\n",
    "round(rmse, 3)"
   ]
  }
 ],
 "metadata": {
  "kernelspec": {
   "display_name": "Python 3",
   "language": "python",
   "name": "python3"
  },
  "language_info": {
   "codemirror_mode": {
    "name": "ipython",
    "version": 3
   },
   "file_extension": ".py",
   "mimetype": "text/x-python",
   "name": "python",
   "nbconvert_exporter": "python",
   "pygments_lexer": "ipython3",
   "version": "3.7.6"
  }
 },
 "nbformat": 4,
 "nbformat_minor": 4
}
